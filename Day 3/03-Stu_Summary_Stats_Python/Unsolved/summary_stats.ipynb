{
 "cells": [
  {
   "cell_type": "code",
   "execution_count": 1,
   "metadata": {},
   "outputs": [],
   "source": [
    "# Dependencies\n",
    "import pandas as pd\n",
    "import matplotlib.pyplot as plt\n",
    "import scipy.stats as st"
   ]
  },
  {
   "cell_type": "code",
   "execution_count": 2,
   "metadata": {},
   "outputs": [
    {
     "data": {
      "text/html": [
       "<div>\n",
       "<style scoped>\n",
       "    .dataframe tbody tr th:only-of-type {\n",
       "        vertical-align: middle;\n",
       "    }\n",
       "\n",
       "    .dataframe tbody tr th {\n",
       "        vertical-align: top;\n",
       "    }\n",
       "\n",
       "    .dataframe thead th {\n",
       "        text-align: right;\n",
       "    }\n",
       "</style>\n",
       "<table border=\"1\" class=\"dataframe\">\n",
       "  <thead>\n",
       "    <tr style=\"text-align: right;\">\n",
       "      <th></th>\n",
       "      <th>MedInc</th>\n",
       "      <th>HouseAge</th>\n",
       "      <th>AveRooms</th>\n",
       "      <th>AveBedrms</th>\n",
       "      <th>Population</th>\n",
       "      <th>AveOccup</th>\n",
       "      <th>Latitude</th>\n",
       "      <th>Longitude</th>\n",
       "    </tr>\n",
       "  </thead>\n",
       "  <tbody>\n",
       "    <tr>\n",
       "      <th>0</th>\n",
       "      <td>5.2742</td>\n",
       "      <td>17.0</td>\n",
       "      <td>8.908654</td>\n",
       "      <td>1.884615</td>\n",
       "      <td>351.0</td>\n",
       "      <td>1.687500</td>\n",
       "      <td>32.98</td>\n",
       "      <td>-117.27</td>\n",
       "    </tr>\n",
       "    <tr>\n",
       "      <th>1</th>\n",
       "      <td>1.8438</td>\n",
       "      <td>52.0</td>\n",
       "      <td>3.069847</td>\n",
       "      <td>1.044293</td>\n",
       "      <td>2382.0</td>\n",
       "      <td>4.057922</td>\n",
       "      <td>34.07</td>\n",
       "      <td>-118.26</td>\n",
       "    </tr>\n",
       "    <tr>\n",
       "      <th>2</th>\n",
       "      <td>7.0691</td>\n",
       "      <td>13.0</td>\n",
       "      <td>6.689697</td>\n",
       "      <td>1.009697</td>\n",
       "      <td>2444.0</td>\n",
       "      <td>2.962424</td>\n",
       "      <td>37.57</td>\n",
       "      <td>-121.87</td>\n",
       "    </tr>\n",
       "    <tr>\n",
       "      <th>3</th>\n",
       "      <td>5.4719</td>\n",
       "      <td>38.0</td>\n",
       "      <td>5.890080</td>\n",
       "      <td>0.957105</td>\n",
       "      <td>1228.0</td>\n",
       "      <td>3.292225</td>\n",
       "      <td>37.52</td>\n",
       "      <td>-122.28</td>\n",
       "    </tr>\n",
       "    <tr>\n",
       "      <th>4</th>\n",
       "      <td>4.0156</td>\n",
       "      <td>35.0</td>\n",
       "      <td>6.195312</td>\n",
       "      <td>1.171875</td>\n",
       "      <td>669.0</td>\n",
       "      <td>5.226562</td>\n",
       "      <td>33.93</td>\n",
       "      <td>-117.41</td>\n",
       "    </tr>\n",
       "  </tbody>\n",
       "</table>\n",
       "</div>"
      ],
      "text/plain": [
       "   MedInc  HouseAge  AveRooms  AveBedrms  Population  AveOccup  Latitude  \\\n",
       "0  5.2742      17.0  8.908654   1.884615       351.0  1.687500     32.98   \n",
       "1  1.8438      52.0  3.069847   1.044293      2382.0  4.057922     34.07   \n",
       "2  7.0691      13.0  6.689697   1.009697      2444.0  2.962424     37.57   \n",
       "3  5.4719      38.0  5.890080   0.957105      1228.0  3.292225     37.52   \n",
       "4  4.0156      35.0  6.195312   1.171875       669.0  5.226562     33.93   \n",
       "\n",
       "   Longitude  \n",
       "0    -117.27  \n",
       "1    -118.26  \n",
       "2    -121.87  \n",
       "3    -122.28  \n",
       "4    -117.41  "
      ]
     },
     "execution_count": 2,
     "metadata": {},
     "output_type": "execute_result"
    }
   ],
   "source": [
    "# Read in the california housing data set\n",
    "california_data = pd.read_csv('../Resources/California_Housing.csv')\n",
    "california_data.head()"
   ]
  },
  {
   "cell_type": "code",
   "execution_count": 3,
   "metadata": {},
   "outputs": [
    {
     "name": "stdout",
     "output_type": "stream",
     "text": [
      "<class 'pandas.core.frame.DataFrame'>\n",
      "RangeIndex: 3000 entries, 0 to 2999\n",
      "Data columns (total 8 columns):\n",
      " #   Column      Non-Null Count  Dtype  \n",
      "---  ------      --------------  -----  \n",
      " 0   MedInc      3000 non-null   float64\n",
      " 1   HouseAge    3000 non-null   float64\n",
      " 2   AveRooms    3000 non-null   float64\n",
      " 3   AveBedrms   3000 non-null   float64\n",
      " 4   Population  3000 non-null   float64\n",
      " 5   AveOccup    3000 non-null   float64\n",
      " 6   Latitude    3000 non-null   float64\n",
      " 7   Longitude   3000 non-null   float64\n",
      "dtypes: float64(8)\n",
      "memory usage: 187.6 KB\n"
     ]
    }
   ],
   "source": [
    "# Get the information on the DataFrame\n",
    "california_data.info()"
   ]
  },
  {
   "cell_type": "code",
   "execution_count": 4,
   "metadata": {},
   "outputs": [
    {
     "data": {
      "image/png": "[encoded data removed]",
      "text/plain": [
       "<Figure size 640x480 with 1 Axes>"
      ]
     },
     "metadata": {},
     "output_type": "display_data"
    },
    {
     "name": "stdout",
     "output_type": "stream",
     "text": [
      "1387.9633333333334\n",
      "1152.5\n",
      "0    1128.0\n",
      "Name: Population, dtype: float64\n"
     ]
    }
   ],
   "source": [
    "# Determine which measure of central tendency is most appropriate to describe the Population\n",
    "plt.hist(california_data['Population'],bins=50)\n",
    "plt.xlabel(\"Population\")\n",
    "plt.ylabel(\"Counts\")\n",
    "plt.show()\n",
    "print(california_data['Population'].mean())\n",
    "print(california_data['Population'].median())\n",
    "print(california_data['Population'].mode())"
   ]
  },
  {
   "cell_type": "code",
   "execution_count": 10,
   "metadata": {},
   "outputs": [
    {
     "name": "stdout",
     "output_type": "stream",
     "text": [
      "NormaltestResult(statistic=4.051793503029496, pvalue=0.1318755305654543)\n",
      "NormaltestResult(statistic=180.3750253562777, pvalue=6.792988937023087e-40)\n"
     ]
    },
    {
     "data": {
      "image/png": "[encoded data removed]",
      "text/plain": [
       "<Figure size 640x480 with 1 Axes>"
      ]
     },
     "metadata": {},
     "output_type": "display_data"
    }
   ],
   "source": [
    "# Determine if the house age in California is normally distributed using a small and large sample size. \n",
    "house_age = california_data['HouseAge']\n",
    "plt.hist(house_age)\n",
    "plt.xlabel('House Age (years)')\n",
    "plt.ylabel('Counts')\n",
    "print(st.normaltest(house_age.sample(100)))\n",
    "print(st.normaltest(house_age.sample(2000)))\n"
   ]
  },
  {
   "cell_type": "code",
   "execution_count": 9,
   "metadata": {},
   "outputs": [
    {
     "name": "stdout",
     "output_type": "stream",
     "text": [
      "The lower quartile of occupancy is: 2.4250909806040477\n",
      "The upper quartile of occupancy is: 3.297459274342836\n",
      "The interquartile range of occupancy is: 0.8723682937387882\n",
      "The median of occupancy is: 2.81970199317512\n",
      "Values below 3.173358721366317 could be outliers\n",
      "Values above 4.314898381247404 could be outliers\n"
     ]
    },
    {
     "data": {
      "text/plain": [
       "0.4999"
      ]
     },
     "execution_count": 9,
     "metadata": {},
     "output_type": "execute_result"
    }
   ],
   "source": [
    "# Determine if there are any potential outliers in the average occupancy in California\n",
    "quartiles = california_data['AveOccup'].quantile([.25,.5,.75])\n",
    "lowerq = quartiles[.25]\n",
    "upperq = quartiles[.75]\n",
    "median = quartiles[.5]\n",
    "iqr = upperq - lowerq\n",
    "\n",
    "lower_bound = lowerq * (1.5 * iqr)\n",
    "upper_bound = upperq * (1.5 * iqr)\n",
    "\n",
    "print(f\"The lower quartile of occupancy is: {lowerq}\")\n",
    "print(f\"The upper quartile of occupancy is: {upperq}\")\n",
    "print(f\"The interquartile range of occupancy is: {iqr}\")\n",
    "print(f\"The median of occupancy is: {median}\")\n",
    "print(f\"Values below {lower_bound} could be outliers\")\n",
    "print(f\"Values above {upper_bound} could be outliers\")\n",
    "\n",
    "outlier_occupancy = california_data.loc[(california_data['AveOccup'] < lower_bound) | (california_data['AveOccup'] > upper_bound)]\n",
    "outlier_occupancy"
   ]
  },
  {
   "cell_type": "code",
   "execution_count": 7,
   "metadata": {},
   "outputs": [
    {
     "name": "stdout",
     "output_type": "stream",
     "text": [
      "The minimum median income of potential outliers is 0.4999\n",
      "\n"
     ]
    }
   ],
   "source": [
    "# With the potential outliers, what is the lowest and highest median income (in $1000s) observed?\n",
    "print(f\"The minimum median income of potential outliers is {outlier_occupancy['MedInc'].min()}\")\n",
    "print(f\"The maximum median income of potential outliers is {outlier_occupancy['MedInc'].max()}\")"
   ]
  },
  {
   "cell_type": "code",
   "execution_count": 8,
   "metadata": {},
   "outputs": [],
   "source": [
    "# Bonus - plot the latitude and longitude of the California housing data using Matplotlib, color the data points using the median income of the block.\n",
    "\n"
   ]
  },
  {
   "cell_type": "code",
   "execution_count": null,
   "metadata": {},
   "outputs": [],
   "source": []
  }
 ],
 "metadata": {
  "kernelspec": {
   "display_name": "Python 3 (ipykernel)",
   "language": "python",
   "name": "python3"
  },
  "language_info": {
   "codemirror_mode": {
    "name": "ipython",
    "version": 3
   },
   "file_extension": ".py",
   "mimetype": "text/x-python",
   "name": "python",
   "nbconvert_exporter": "python",
   "pygments_lexer": "ipython3",
   "version": "3.10.11"
  }
 },
 "nbformat": 4,
 "nbformat_minor": 2
}
